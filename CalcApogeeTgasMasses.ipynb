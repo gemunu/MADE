{
 "cells": [
  {
   "cell_type": "code",
   "execution_count": 1,
   "metadata": {
    "collapsed": false
   },
   "outputs": [
    {
     "name": "stderr",
     "output_type": "stream",
     "text": [
      "/usr/local/lib/python2.7/dist-packages/h5py/__init__.py:36: FutureWarning: Conversion of the second argument of issubdtype from `float` to `np.floating` is deprecated. In future, it will be treated as `np.float64 == np.dtype(float).type`.\n",
      "  from ._conv import register_converters as _register_converters\n"
     ]
    }
   ],
   "source": [
    "\"\"\"\n",
    "APPLY BAYESIAN NEURAL NETWORK ON APOGEE-TGAS DR14 DATA\n",
    "\"\"\"\n",
    "%matplotlib inline \n",
    "from scipy.stats import kde\n",
    "import scipy\n",
    "import CalcBNN as cbnn\n",
    "import pandas as pd\n",
    "import numpy as np\n",
    "import matplotlib.pyplot as plt\n",
    "from matplotlib.colors import LogNorm"
   ]
  },
  {
   "cell_type": "markdown",
   "metadata": {},
   "source": [
    "# Read APOGEE-TGAS data"
   ]
  },
  {
   "cell_type": "code",
   "execution_count": 2,
   "metadata": {
    "collapsed": false
   },
   "outputs": [
    {
     "name": "stdout",
     "output_type": "stream",
     "text": [
      "The number of stars in the APOGEE-TGAS DR14 sample is:\n",
      "10074\n"
     ]
    }
   ],
   "source": [
    "# Read data file (\"location_id\",\"ra\",\"dec\",\"vlos\",\"evlos\",\"j\",\"ej\",\"h\",\"eh\",\"k\",\"ek\",\"teff\",\"teff_err\",\"logg\",\"logg_err\",\n",
    "#        \"m_h\",\"m_h_err\",\"alpha_m\",\"alpha_m_err\"],elarrdef,elarrdef_err,[\"ra_gaia\",\"dec_gaia\",\"ra_error\",\"dec_error\",\"parallax\",\"parallax_error\",\"pmra\",\"pmra_error\",\"pmdec\",\n",
    "#        \"pmdec_error\",\"meandist\",\"diststd\",\"lncanmass\",\"elncanmass\",\"lncanage\",\"elncanage\",\"kepmass\",\"kepmass68L\",\n",
    "#        \"kepmass68U\",\"kepmass95L\",\"kepmass95U\",\"kepage\",\"kepage68L\",\"kepage68U\",\"kepage95L\",\"kepage95U\",\n",
    "#        \"kepevstate\")\n",
    "datafile = \"../data/apogee/APOGEE_TGAS_DR14_supp_keplercannon_masses_ages.csv\"\n",
    "data     = pd.read_csv(datafile,header=0,index_col=0) \n",
    "nstars   = len(data)  \n",
    "                \n",
    "print(\"The number of stars in the APOGEE-TGAS DR14 sample is:\")\n",
    "print(nstars)  "
   ]
  },
  {
   "cell_type": "markdown",
   "metadata": {},
   "source": [
    "# Select inputs"
   ]
  },
  {
   "cell_type": "code",
   "execution_count": 35,
   "metadata": {
    "collapsed": false
   },
   "outputs": [
    {
     "name": "stdout",
     "output_type": "stream",
     "text": [
      "15\n",
      "Found 1312 stars with Kepler masses.\n"
     ]
    }
   ],
   "source": [
    "# Select inputs and errors\n",
    "inputs = np.column_stack((data[\"logg\"].values,data[\"teff\"].values,data[\"m_h\"].values,data[\"[C/M]\"].values,\n",
    "                          data[\"[CI/M]\"].values,data[\"[N/M]\"].values,data[\"[O/M]\"].values,\n",
    "                          data[\"[Mg/M]\"].values,data[\"[Si/M]\"].values,data[\"[P/H]\"].values,\n",
    "                          data[\"[K/H]\"].values,data[\"[Ti/M]\"].values,data[\"[Mn/H]\"].values,\n",
    "                          data[\"[Co/H]\"].values,data[\"[Ni/H]\"].values))\n",
    "#inputs = np.column_stack((data[\"logg\"].values,data[\"teff\"].values,data[\"m_h\"].values,data[\"[C/M]\"].values,\n",
    "#                          data[\"[N/M]\"].values,data[\"[O/M]\"].values))\n",
    "ninputs = len(inputs[0,:])\n",
    "print(ninputs)\n",
    "\n",
    "errInputs = np.column_stack((data[\"logg_err\"].values,data[\"teff_err\"].values,data[\"m_h_err\"].values,\n",
    "                             data[\"err_[C/M]\"].values,data[\"err_[CI/M]\"].values,data[\"err_[N/M]\"].values,\n",
    "                             data[\"err_[O/M]\"].values,data[\"err_[Mg/M]\"].values,data[\"err_[Si/M]\"].values,\n",
    "                             data[\"err_[P/H]\"].values,data[\"err_[K/H]\"].values,data[\"err_[Ti/M]\"].values,\n",
    "                             data[\"err_[Mn/H]\"].values,data[\"err_[Co/H]\"].values,data[\"err_[Ni/H]\"].values))  \n",
    "#errInputs = np.column_stack((data[\"logg_err\"].values,data[\"teff_err\"].values,data[\"m_h_err\"].values,\n",
    "#                             data[\"err_[C/M]\"].values,data[\"err_[N/M]\"].values,data[\"err_[O/M]\"].values))"
   ]
  },
  {
   "cell_type": "markdown",
   "metadata": {},
   "source": [
    "# Calculate masses"
   ]
  },
  {
   "cell_type": "code",
   "execution_count": 6,
   "metadata": {
    "collapsed": false
   },
   "outputs": [],
   "source": [
    "# Instantiate class\n",
    "bnn = cbnn.CalcBNN()\n",
    "\n",
    "# Number of neurons per hidden layer\n",
    "neuronsPerHiddenlayer = 30\n",
    "\n",
    "# Whether to use NUTS or ADVI sampler\n",
    "sampler               = \"nuts\"\n",
    "\n",
    "# Number of samples tro draw from posterior\n",
    "nsamp                 = 5000\n",
    "\n",
    "# Pickle file for storing model\n",
    "tracedir = \"../results/apogee/mass/\"\n",
    "bnnmodelpkl = tracedir+\"bnn_\"+sampler+\"_ninputs\"+str(ninputs)+\"_nhid\"+str(neuronsPerHiddenlayer)+\"_nsamp\"+str(nsamp)+\".pkl\"\n",
    "print(bnnmodelpkl)\n",
    "\n",
    "# Directory for storing plots\n",
    "plotdir     = \"../plots/apogee/mass/\"\n",
    "print(plotdir)\n",
    "ncores      = 2\n",
    "\n",
    "# Number of posterior predictive samples\n",
    "nppc = 5000 \n",
    "\n",
    "# Apply model\n",
    "out = bnn.calcPostPredSamples(bnnmodelpkl,inputs,errInputs,nppc,plotdir)\n",
    "\n",
    "inputsTrueMu   = out[\"InputsTrueMu\"]\n",
    "inputsTrueSig  = out[\"InputsTrueSig\"]\n",
    "targetsTrueMu  = out[\"TargetsTrueMu\"]\n",
    "targetsTrueSig = out[\"TargetsTrueSig\"]"
   ]
  },
  {
   "cell_type": "code",
   "execution_count": 52,
   "metadata": {
    "collapsed": false
   },
   "outputs": [
    {
     "name": "stdout",
     "output_type": "stream",
     "text": [
      "The number of stars in the APOGEE-TGAS DR14 sample is:\n",
      "10074\n"
     ]
    },
    {
     "data": {
      "image/png": "[encoded data removed]",
      "text/plain": [
       "<matplotlib.figure.Figure at 0x7ff9afe80fd0>"
      ]
     },
     "metadata": {},
     "output_type": "display_data"
    }
   ],
   "source": [
    "# Read APOKASC masses and predicted masses\n",
    "datafile     = \"../data/apogee/APOKASC_TGAS_supp_keplercannonann_masses_ages.csv\"\n",
    "dataApokasc  = pd.read_csv(datafile,header=0,index_col=0)\n",
    "obsmass      = dataApokasc[\"kepmass\"]\n",
    "predmass     = dataApokasc[\"annMass\"]\n",
    "                \n",
    "print(\"The number of stars in the APOGEE-TGAS DR14 sample is:\")\n",
    "print(nstars)         \n",
    "\n",
    "fig = plt.figure(figsize=(6,4))\n",
    "plt.hist(obsmass,histtype=\"step\",bins=12,normed=True,linewidth=2,color=\"black\",label=r\"$m_{\\mathrm{Obs,APOKASC-TGAS}}$\")\n",
    "plt.hist(predmass,histtype=\"step\",bins=12,normed=True,linewidth=2,linestyle=\":\",color=\"black\",label=r\"$m_{\\mathrm{True,APOKASC-TGAS}}$\")\n",
    "plt.hist(targetsTrueMu,histtype=\"step\",bins=12,normed=True,linewidth=2,linestyle=\":\",color=\"red\",label=r\"$m_{\\mathrm{True,APOGEE-TGAS}}$\")\n",
    "plt.xlabel(r\"$m$\",fontsize=14)\n",
    "plt.ylabel(\"Normalized counts\",fontsize=14)\n",
    "plt.legend()\n",
    "plotfile = plotdir+\"predmassdist_\"+sampler+\"_ninputs\"+str(ninputs)+\"_nhid\"+str(neuronsPerHiddenlayer)+\"_nsamp\"+str(nsamp)+\".eps\"\n",
    "fig.savefig(plotfile,format='eps',bbox_inches='tight')"
   ]
  },
  {
   "cell_type": "code",
   "execution_count": null,
   "metadata": {
    "collapsed": true
   },
   "outputs": [],
   "source": [
    "# Save to file\n",
    "header=np.hstack([[\"location_id\",\"ra\",\"dec\",\"vlos\",\"evlos\",\"j\",\"ej\",\"h\",\"eh\",\"k\",\"ek\",\"teff\",\"teff_err\",\"logg\",\n",
    "                   \"logg_err\",\"m_h\",\"m_h_err\",\"alpha_m\",\"alpha_m_err\",\"ra_gaia\",\"dec_gaia\",\"ra_error\",\n",
    "                   \"dec_error\",\"parallax\",\"parallax_error\",\"pmra\",\"pmra_error\",\"pmdec\",\"pmdec_error\",\"annMass\",\n",
    "                   \"eAnnMass\",\"lncanmass\",\"elncanmass\",\"lncanage\",\"elncanage\",\"kepmass\",\"kepmass68L\",\n",
    "                   \"kepmass68U\",\"kepmass95L\",\"kepmass95U\",\"kepage\",\"kepage68L\",\"kepage68U\",\"kepage95L\",\n",
    "                   \"kepage95U\",\"kepevstate\"]])\n",
    "catalog = np.column_stack((data[\"location_id\"],data[\"ra\"],data[\"dec\"],data[\"vlos\"],data[\"evlos\"],data[\"j\"],\n",
    "                           data[\"ej\"],data[\"h\"],data[\"eh\"],data[\"k\"],data[\"ek\"],data[\"teff\"],data[\"teff_err\"],\n",
    "                           data[\"logg\"],data[\"logg_err\"],data[\"m_h\"],data[\"m_h_err\"],data[\"alpha_m\"],\n",
    "                           data[\"alpha_m_err\"],data[\"ra_gaia\"],data[\"dec_gaia\"],data[\"ra_error\"],\n",
    "                           data[\"dec_error\"],data[\"parallax\"],data[\"parallax_error\"],data[\"pmra\"],\n",
    "                           data[\"pmra_error\"],data[\"pmdec\"],data[\"pmdec_error\"],massMu,massSig,\n",
    "                           data[\"lncanmass\"],data[\"elncanmass\"],data[\"lncanage\"],data[\"elncanage\"],\n",
    "                           data[\"kepmass\"],data[\"kepmass68L\"],data[\"kepmass68U\"],data[\"kepmass95L\"],\n",
    "                           data[\"kepmass95U\"],data[\"kepage\"],data[\"kepage68L\"],data[\"kepage68U\"],\n",
    "                           data[\"kepage95L\"],data[\"kepage95U\"],data[\"kepevstate\"]))\n",
    "catalog = pd.DataFrame(data=catalog,index=None,columns=header)\n",
    "datafile       = \"../data/apogee/APOGEE_TGAS_DR14_supp_keplercannonann_masses_ages.csv\"\n",
    "catalog.to_csv(datafile,sep=',',na_rep='nan',float_format='%15.5e',columns=header,header=True,index=True)"
   ]
  }
 ],
 "metadata": {
  "kernelspec": {
   "display_name": "Python 2",
   "language": "python",
   "name": "python2"
  },
  "language_info": {
   "codemirror_mode": {
    "name": "ipython",
    "version": 2
   },
   "file_extension": ".py",
   "mimetype": "text/x-python",
   "name": "python",
   "nbconvert_exporter": "python",
   "pygments_lexer": "ipython2",
   "version": "2.7.6"
  }
 },
 "nbformat": 4,
 "nbformat_minor": 0
}
